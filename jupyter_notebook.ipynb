{
 "cells": [
  {
   "cell_type": "markdown",
   "metadata": {},
   "source": [
    "# First heading"
   ]
  },
  {
   "cell_type": "markdown",
   "metadata": {},
   "source": [
    "***\n",
    "## Second heading"
   ]
  },
  {
   "cell_type": "code",
   "execution_count": 2,
   "metadata": {},
   "outputs": [
    {
     "ename": "TypeError",
     "evalue": "__init__() takes 0 positional arguments but 1 was given",
     "output_type": "error",
     "traceback": [
      "\u001b[1;31m---------------------------------------------------------------------------\u001b[0m",
      "\u001b[1;31mTypeError\u001b[0m                                 Traceback (most recent call last)",
      "\u001b[1;32mc:\\Users\\Julian\\Documents\\python_devel\\group_seminar-29062022\\jupyter_notebook.ipynb Cell 3'\u001b[0m in \u001b[0;36m<cell line: 1>\u001b[1;34m()\u001b[0m\n\u001b[1;32m----> <a href='vscode-notebook-cell:/c%3A/Users/Julian/Documents/python_devel/group_seminar-29062022/jupyter_notebook.ipynb#ch0000002?line=0'>1</a>\u001b[0m \u001b[39mimport\u001b[39;00m \u001b[39mpython_file\u001b[39;00m\n\u001b[0;32m      <a href='vscode-notebook-cell:/c%3A/Users/Julian/Documents/python_devel/group_seminar-29062022/jupyter_notebook.ipynb#ch0000002?line=2'>3</a>\u001b[0m human \u001b[39m=\u001b[39m python_file\u001b[39m.\u001b[39mHuman()\n",
      "File \u001b[1;32mc:\\Users\\Julian\\Documents\\python_devel\\group_seminar-29062022\\python_file.py:18\u001b[0m, in \u001b[0;36m<module>\u001b[1;34m\u001b[0m\n\u001b[0;32m     14\u001b[0m     \u001b[39mdef\u001b[39;00m \u001b[39m__init__\u001b[39m():\n\u001b[0;32m     15\u001b[0m         \u001b[39mpass\u001b[39;00m\n\u001b[1;32m---> 18\u001b[0m human \u001b[39m=\u001b[39m Human()\n\u001b[0;32m     20\u001b[0m \u001b[39m########## ASE example ##########\u001b[39;00m\n\u001b[0;32m     21\u001b[0m \n\u001b[0;32m     22\u001b[0m \u001b[39m# Easy example\u001b[39;00m\n\u001b[0;32m     23\u001b[0m a \u001b[39m=\u001b[39m \u001b[39m4.05\u001b[39m  \u001b[39m# Gold lattice constant\u001b[39;00m\n",
      "\u001b[1;31mTypeError\u001b[0m: __init__() takes 0 positional arguments but 1 was given"
     ]
    }
   ],
   "source": [
    "import python_file\n",
    "\n",
    "human = python_file.Human()"
   ]
  },
  {
   "cell_type": "code",
   "execution_count": null,
   "metadata": {},
   "outputs": [
    {
     "name": "stdout",
     "output_type": "stream",
     "text": [
      "That's pretty nice.\n"
     ]
    }
   ],
   "source": [
    "%%bash\n",
    "echo \"That's pretty nice.\""
   ]
  },
  {
   "cell_type": "markdown",
   "metadata": {},
   "source": [
    "Let's add that to the outline"
   ]
  }
 ],
 "metadata": {
  "kernelspec": {
   "display_name": "Python 3.9.12 ('seminar')",
   "language": "python",
   "name": "python3"
  },
  "language_info": {
   "codemirror_mode": {
    "name": "ipython",
    "version": 3
   },
   "file_extension": ".py",
   "mimetype": "text/x-python",
   "name": "python",
   "nbconvert_exporter": "python",
   "pygments_lexer": "ipython3",
   "version": "3.9.12"
  },
  "orig_nbformat": 4,
  "vscode": {
   "interpreter": {
    "hash": "9a2aad057e2c957adcd42d6b31b2710b03137ad4ea9025e0d209bf00dd7910a0"
   }
  }
 },
 "nbformat": 4,
 "nbformat_minor": 2
}
