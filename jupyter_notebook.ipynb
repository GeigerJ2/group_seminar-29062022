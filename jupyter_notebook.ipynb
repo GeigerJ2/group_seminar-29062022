{
 "cells": [
  {
   "cell_type": "markdown",
   "metadata": {},
   "source": [
    "# First heading"
   ]
  },
  {
   "cell_type": "markdown",
   "metadata": {},
   "source": [
    "***\n",
    "## Second heading"
   ]
  },
  {
   "cell_type": "code",
   "execution_count": 1,
   "metadata": {},
   "outputs": [],
   "source": [
    "import numpy as np"
   ]
  },
  {
   "cell_type": "code",
   "execution_count": 9,
   "metadata": {},
   "outputs": [],
   "source": [
    "a = 5\n",
    "def my_function(x):\n",
    "    return x**2\n",
    "\n",
    "array = np.random.rand(3,3)\n"
   ]
  },
  {
   "cell_type": "code",
   "execution_count": 3,
   "metadata": {},
   "outputs": [
    {
     "name": "stdout",
     "output_type": "stream",
     "text": [
      "/mnt/c/Users/Julian/Documents/python_devel/group_seminar-29062022\n",
      "distracted_boyfriend_meme.png\n",
      "distracted_boyfriend_meme.svg\n",
      "distracted_boyfriend_meme_template.png\n",
      "doge_meme.png\n",
      "doge_meme.svg\n",
      "doge_meme_template.png\n",
      "hard_worker_meme.mp4\n",
      "learning_curves_meme.png\n",
      "learning_curves_meme.svg\n",
      "learning_curves_meme_template.png\n",
      "That's pretty nice.\n"
     ]
    }
   ],
   "source": [
    "%%bash\n",
    "pwd\n",
    "ls *meme*\n",
    "echo \"That's pretty nice.\""
   ]
  },
  {
   "cell_type": "markdown",
   "metadata": {},
   "source": [
    "Let's add that to the outline"
   ]
  },
  {
   "cell_type": "markdown",
   "metadata": {},
   "source": [
    "***\n",
    "# Why multiline editing is better than search and replace\n",
    "\n",
    "- Extensions:\n",
    "    - **Search with cursor** - Shortcut to search selected text on Google: https://marketplace.visualstudio.com/items?itemName=hasefumi23.search-with-cursor\n",
    "    - **Kite** - AI-powered code completion: https://marketplace.visualstudio.com/items?itemName=kiteco.kite\n",
    "    - **Error Lens** - Improved language diagnostics and error reporting: https://marketplace.visualstudio.com/items?itemName=usernamehw.errorlens\n",
    "    - **Git File History** - Seamless browsing of different file versions in git history: https://marketplace.visualstudio.com/items?itemName=pomber.git-file-history\n",
    "    - **GitLens** - Extensive additional git annotations: https://marketplace.visualstudio.com/items?itemName=eamodio.gitlens\n",
    "    - **Todo Tree** - Workspace-wide TODOs: https://marketplace.visualstudio.com/items?itemName=bat67.latex-extension-pack\n",
    "    - **LaTeX extension pack** - https://marketplace.visualstudio.com/items?itemName=bat67.latex-extension-pack"
   ]
  }
 ],
 "metadata": {
  "kernelspec": {
   "display_name": "Python 3.9.12 ('seminar')",
   "language": "python",
   "name": "python3"
  },
  "language_info": {
   "codemirror_mode": {
    "name": "ipython",
    "version": 3
   },
   "file_extension": ".py",
   "mimetype": "text/x-python",
   "name": "python",
   "nbconvert_exporter": "python",
   "pygments_lexer": "ipython3",
   "version": "3.9.12"
  },
  "orig_nbformat": 4,
  "vscode": {
   "interpreter": {
    "hash": "9a2aad057e2c957adcd42d6b31b2710b03137ad4ea9025e0d209bf00dd7910a0"
   }
  }
 },
 "nbformat": 4,
 "nbformat_minor": 2
}
